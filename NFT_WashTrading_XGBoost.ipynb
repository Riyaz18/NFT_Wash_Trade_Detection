{
 "cells": [
  {
   "cell_type": "code",
   "execution_count": 2,
   "id": "ec758ab9-dece-47fe-80bf-0401a9bccd3e",
   "metadata": {},
   "outputs": [],
   "source": [
    "# -------------------- Imports --------------------\n",
    "import pandas as pd\n",
    "import numpy as np\n",
    "from sklearn.preprocessing import StandardScaler, PolynomialFeatures\n",
    "from sklearn.model_selection import train_test_split, RandomizedSearchCV\n",
    "from sklearn.metrics import classification_report, confusion_matrix, roc_auc_score, precision_recall_curve, auc\n",
    "from sklearn.ensemble import VotingClassifier, RandomForestClassifier\n",
    "from xgboost import XGBClassifier\n",
    "from lightgbm import LGBMClassifier\n",
    "from imblearn.over_sampling import SMOTE\n",
    "import matplotlib.pyplot as plt\n",
    "import seaborn as sns\n",
    "from datetime import datetime, timedelta\n",
    "import joblib"
   ]
  },
  {
   "cell_type": "code",
   "execution_count": 3,
   "id": "5844f5d0-769e-4cef-94b3-9c438e94c4d0",
   "metadata": {},
   "outputs": [],
   "source": [
    "# -------------------- Data Generation --------------------\n",
    "np.random.seed(42)\n",
    "n_samples = 10000\n",
    "dates = [datetime(2025, 1, 1) + timedelta(hours=i) for i in range(n_samples)]\n",
    "\n",
    "addresses = [f'addr_{i}' for i in range(1000)]\n",
    "data = {\n",
    "    'timestamp': dates,\n",
    "    'price': np.random.lognormal(mean=5, sigma=1, size=n_samples),\n",
    "    'gas_fee': np.random.lognormal(mean=2, sigma=0.5, size=n_samples),\n",
    "    'trade_size': np.random.lognormal(mean=1, sigma=0.5, size=n_samples),\n",
    "    'buyer_address': np.random.choice(addresses, n_samples),\n",
    "    'seller_address': np.random.choice(addresses, n_samples),\n",
    "    'token_id': np.random.randint(1, 5000, n_samples),\n",
    "    'seller_reputation': np.random.uniform(0, 1, n_samples),\n",
    "}\n",
    "\n",
    "df = pd.DataFrame(data)"
   ]
  },
  {
   "cell_type": "code",
   "execution_count": null,
   "id": "670f61bc-6ce0-4fc4-8b8c-bc85390526c4",
   "metadata": {},
   "outputs": [],
   "source": [
    "# -------------------- Simulate Wash Trades --------------------\n",
    "df['buyer_seller_same'] = (df['buyer_address'] == df['seller_address']).astype(int)\n",
    "df['wash_trade'] = 0\n",
    "mask = (df['buyer_seller_same'] == 1) | (np.random.random(n_samples) < 0.2)\n",
    "df.loc[mask, 'wash_trade'] = 1"
   ]
  },
  {
   "cell_type": "code",
   "execution_count": null,
   "id": "9f9e1b99-67e3-4165-a943-3aa1e9f974ed",
   "metadata": {},
   "outputs": [],
   "source": [
    "# Add stronger signals\n",
    "df.loc[mask, 'gas_fee'] *= np.random.uniform(1.2, 2.0, mask.sum())\n",
    "df.loc[mask, 'price'] *= np.random.uniform(1.3, 2.5, mask.sum())\n",
    "df.loc[mask, 'trade_size'] *= np.random.uniform(1.2, 2.0, mask.sum())\n",
    "df.loc[mask, 'seller_reputation'] *= np.random.uniform(0.1, 0.6, mask.sum())"
   ]
  },
  {
   "cell_type": "code",
   "execution_count": null,
   "id": "cae29e8a-97d0-402c-9f44-068c7c5af40a",
   "metadata": {},
   "outputs": [],
   "source": [
    "# -------------------- Feature Engineering --------------------\n",
    "df['hour'] = df['timestamp'].dt.hour\n",
    "df['time_of_day'] = pd.cut(df['hour'], bins=[0, 6, 12, 18, 24],\n",
    "                           labels=['Night', 'Morning', 'Afternoon', 'Evening'], right=False)\n",
    "\n",
    "df['transaction_frequency_per_hour'] = df.groupby('hour')['timestamp'].transform('count') / n_samples\n",
    "freq_bins = pd.qcut(df['transaction_frequency_per_hour'], q=4, duplicates='drop')\n",
    "bin_count = freq_bins.cat.categories.size\n",
    "labels = ['Low', 'Medium', 'High', 'Very High'][:bin_count]\n",
    "df['freq_bin'] = pd.qcut(df['transaction_frequency_per_hour'], q=bin_count,\n",
    "                         labels=labels, duplicates='drop')\n",
    "\n",
    "df['price_change'] = df['price'].pct_change().fillna(0)\n",
    "df['volatility_bin'] = pd.qcut(df['price_change'].abs(), q=4,\n",
    "                               labels=['Stable', 'Low', 'Medium', 'High'])"
   ]
  },
  {
   "cell_type": "code",
   "execution_count": null,
   "id": "df59947f-afdc-42b1-b52e-519bdda0e266",
   "metadata": {},
   "outputs": [],
   "source": [
    "# Address-based features\n",
    "df['buyer_seller_pair'] = df['buyer_address'] + '_' + df['seller_address']\n",
    "df['pair_trade_count'] = df.groupby('buyer_seller_pair')['token_id'].transform('count')\n",
    "df['price_per_unit'] = df['price'] / (df['trade_size'] + 1e-6)\n",
    "df['buyer_trade_count'] = df['buyer_address'].map(df['buyer_address'].value_counts())\n",
    "df['seller_trade_count'] = df['seller_address'].map(df['seller_address'].value_counts())"
   ]
  },
  {
   "cell_type": "code",
   "execution_count": null,
   "id": "b7439db7-1e59-4662-8315-09e80469ba8a",
   "metadata": {},
   "outputs": [],
   "source": [
    "# -------------------- Transformations --------------------\n",
    "df['price'] = np.log1p(df['price'])\n",
    "df['gas_fee'] = np.log1p(df['gas_fee'])\n",
    "df['trade_size'] = np.log1p(df['trade_size'])\n",
    "\n",
    "df = pd.get_dummies(df, columns=['time_of_day', 'freq_bin', 'volatility_bin'], drop_first=True)"
   ]
  },
  {
   "cell_type": "code",
   "execution_count": null,
   "id": "183758c2-3afd-4bc5-9547-1aca0f12fd75",
   "metadata": {},
   "outputs": [],
   "source": [
    "# Polynomial Features with distinct names\n",
    "poly_features = ['seller_reputation', 'price_change', 'gas_fee', 'trade_size']\n",
    "poly = PolynomialFeatures(degree=2, interaction_only=True, include_bias=False)\n",
    "X_poly = poly.fit_transform(df[poly_features])\n",
    "poly_cols = [f\"poly_{col}\" for col in poly.get_feature_names_out(poly_features)]\n",
    "X_poly = pd.DataFrame(X_poly, columns=poly_cols, index=df.index)"
   ]
  },
  {
   "cell_type": "code",
   "execution_count": null,
   "id": "49bbbe05-9434-422a-b512-ea9880574437",
   "metadata": {},
   "outputs": [],
   "source": [
    "# -------------------- Dataset Preparation --------------------\n",
    "X_base = df.drop(columns=['timestamp', 'buyer_address', 'seller_address', 'token_id', 'hour', 'wash_trade', 'buyer_seller_pair'])\n",
    "X = pd.concat([X_base.reset_index(drop=True), X_poly.reset_index(drop=True)], axis=1)\n",
    "y = df['wash_trade']"
   ]
  },
  {
   "cell_type": "code",
   "execution_count": null,
   "id": "aa7d8dc1-50c4-4ca7-8676-2eaca68a8462",
   "metadata": {},
   "outputs": [],
   "source": [
    "# Standardization\n",
    "scaler = StandardScaler()\n",
    "X_scaled = scaler.fit_transform(X)\n",
    "X_scaled = pd.DataFrame(X_scaled, columns=[f'feature_{i}' for i in range(X_scaled.shape[1])])\n",
    "\n",
    "# Train-Test Split\n",
    "X_train, X_test, y_train, y_test = train_test_split(X_scaled, y, test_size=0.2,\n",
    "                                                    stratify=y, random_state=42)"
   ]
  },
  {
   "cell_type": "code",
   "execution_count": null,
   "id": "e0ab465f-1fe3-47bf-969a-163e2f103a40",
   "metadata": {},
   "outputs": [],
   "source": [
    "# -------------------- SMOTE to Balance Dataset --------------------\n",
    "smote = SMOTE(random_state=42)\n",
    "X_train_resampled, y_train_resampled = smote.fit_resample(X_train, y_train)"
   ]
  },
  {
   "cell_type": "code",
   "execution_count": null,
   "id": "921e356b-d5ab-4de2-899b-56851c16b1a6",
   "metadata": {},
   "outputs": [],
   "source": [
    "# -------------------- Hyperparameter Optimization --------------------\n",
    "xgb = XGBClassifier(eval_metric='logloss', use_label_encoder=False)\n",
    "param_grid = {\n",
    "    'n_estimators': [100, 300, 500],\n",
    "    'max_depth': [4, 6, 8],\n",
    "    'learning_rate': [0.01, 0.05, 0.1],\n",
    "    'subsample': [0.6, 0.8, 1.0],\n",
    "    'colsample_bytree': [0.6, 0.8, 1.0],\n",
    "}\n",
    "search = RandomizedSearchCV(xgb, param_distributions=param_grid,\n",
    "                            scoring='f1', n_iter=10, cv=3, verbose=1)\n",
    "search.fit(X_train_resampled, y_train_resampled)\n",
    "xgb_best = search.best_estimator_"
   ]
  },
  {
   "cell_type": "code",
   "execution_count": null,
   "id": "4bdb3a82-4b21-4a81-ada2-a81c1f4a4709",
   "metadata": {},
   "outputs": [],
   "source": [
    "# -------------------- Ensemble Model --------------------\n",
    "ensemble = VotingClassifier(\n",
    "    estimators=[\n",
    "        ('xgb', xgb_best),\n",
    "        ('rf', RandomForestClassifier(n_estimators=200, max_depth=10)),\n",
    "        ('lgb', LGBMClassifier(n_estimators=200))\n",
    "    ],\n",
    "    voting='soft'\n",
    ")\n",
    "ensemble.fit(X_train_resampled, y_train_resampled)"
   ]
  },
  {
   "cell_type": "code",
   "execution_count": null,
   "id": "571284ca-35e0-463e-85d0-0aeda08ec768",
   "metadata": {},
   "outputs": [],
   "source": [
    "# -------------------- Model Evaluation --------------------\n",
    "y_pred = ensemble.predict(X_test)\n",
    "y_prob = ensemble.predict_proba(X_test)[:, 1]\n",
    "\n",
    "print(\"\\n🧪 Classification Report:\")\n",
    "print(classification_report(y_test, y_pred))\n",
    "\n",
    "print(\"📊 Confusion Matrix:\")\n",
    "print(confusion_matrix(y_test, y_pred))\n",
    "\n",
    "roc = roc_auc_score(y_test, y_prob)\n",
    "print(f\"🔵 ROC-AUC Score: {roc:.4f}\")"
   ]
  },
  {
   "cell_type": "code",
   "execution_count": null,
   "id": "7dfa91dd-6942-4565-a1c2-0d99e5fde651",
   "metadata": {},
   "outputs": [],
   "source": [
    "# Optional: Precision-Recall AUC\n",
    "precision, recall, _ = precision_recall_curve(y_test, y_prob)\n",
    "pr_auc = auc(recall, precision)\n",
    "print(f\"🟢 Precision-Recall AUC: {pr_auc:.4f}\")"
   ]
  },
  {
   "cell_type": "code",
   "execution_count": 10,
   "id": "0104c22d-ac30-4dea-bdaf-d4fca396e9fc",
   "metadata": {},
   "outputs": [
    {
     "data": {
      "image/png": "[encoded data removed]",
      "text/plain": [
       "<Figure size 640x480 with 1 Axes>"
      ]
     },
     "metadata": {},
     "output_type": "display_data"
    }
   ],
   "source": [
    "# -------------------- ROC Curve Plot --------------------\n",
    "from sklearn.metrics import RocCurveDisplay\n",
    "RocCurveDisplay.from_estimator(ensemble, X_test, y_test)\n",
    "plt.title(\"ROC Curve\")\n",
    "plt.show()"
   ]
  },
  {
   "cell_type": "code",
   "execution_count": 11,
   "id": "75ba3c16-b563-4399-bb33-fe791902b371",
   "metadata": {},
   "outputs": [
    {
     "name": "stdout",
     "output_type": "stream",
     "text": [
      "✅ Model and scaler saved as 'wash_trade_model.pkl' and 'scaler.pkl'\n"
     ]
    }
   ],
   "source": [
    "# -------------------- Save Model --------------------\n",
    "joblib.dump(ensemble, 'wash_trade_model.pkl')\n",
    "joblib.dump(scaler, 'scaler.pkl')\n",
    "print(\"✅ Model and scaler saved as 'wash_trade_model.pkl' and 'scaler.pkl'\")"
   ]
  }
 ],
 "metadata": {
  "kernelspec": {
   "display_name": "Python 3 (ipykernel)",
   "language": "python",
   "name": "python3"
  },
  "language_info": {
   "codemirror_mode": {
    "name": "ipython",
    "version": 3
   },
   "file_extension": ".py",
   "mimetype": "text/x-python",
   "name": "python",
   "nbconvert_exporter": "python",
   "pygments_lexer": "ipython3",
   "version": "3.11.7"
  }
 },
 "nbformat": 4,
 "nbformat_minor": 5
}
